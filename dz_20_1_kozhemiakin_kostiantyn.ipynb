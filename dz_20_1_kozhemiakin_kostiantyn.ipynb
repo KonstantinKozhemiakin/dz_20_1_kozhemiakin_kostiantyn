{
 "cells": [
  {
   "cell_type": "code",
   "execution_count": 4,
   "id": "87804b1c",
   "metadata": {},
   "outputs": [
    {
     "name": "stdout",
     "output_type": "stream",
     "text": [
      "\n",
      "Automagic is ON, % prefix IS NOT needed for line magics.\n"
     ]
    }
   ],
   "source": [
    "%automagic ON"
   ]
  },
  {
   "cell_type": "code",
   "execution_count": 9,
   "id": "f0652cee",
   "metadata": {},
   "outputs": [],
   "source": [
    "%autoreload 2"
   ]
  },
  {
   "cell_type": "markdown",
   "id": "3230d764",
   "metadata": {},
   "source": [
    "|year|rank|company|revenue|profit|\n",
    "|:---|:---|:---|:---|:---| \n",
    "|1955|229|Norton|135.0|N.A|\n",
    "|1955|291|Schlitz Brewing|100.0|N.A|\n",
    "|1955|295|Pacific Vegetable Oil|97.9|N.A|\n",
    "|1955|297|Liebmann Breweries|96.0|N.A|\n",
    "|1955|353|Minneapolis-Moline|77.4|N.A|\n"
   ]
  },
  {
   "cell_type": "code",
   "execution_count": 23,
   "id": "0a6781ab",
   "metadata": {},
   "outputs": [],
   "source": [
    "   def bubble_sort(data):\n",
    "    length = len(data)\n",
    "    for iIndex in range(length):\n",
    "        swapped = False\n",
    "        for jIndex in range(0, length - iIndex - 1):\n",
    "            if data[jIndex] > data[jIndex + 1]:\n",
    "                data[jIndex], data[jIndex + 1] = data[jIndex + 1], data[jIndex]\n",
    "                swapped = True\n",
    "        if not swapped:\n",
    "            break\n",
    "    # return data\n",
    "\n",
    "def partition(nums, low, high):\n",
    "    # We select the middle element to be the pivot. Some implementations select\n",
    "    # the first element or the last element. Sometimes the median value becomes\n",
    "    # the pivot, or a random one. There are many more strategies that can be\n",
    "    # chosen or created.\n",
    "    pivot = nums[(low + high) // 2]\n",
    "    i = low - 1\n",
    "    j = high + 1\n",
    "    while True:\n",
    "        i += 1\n",
    "        while nums[i] < pivot:\n",
    "            i += 1\n",
    "\n",
    "        j -= 1\n",
    "        while nums[j] > pivot:\n",
    "            j -= 1\n",
    "\n",
    "        if i >= j:\n",
    "            return j\n",
    "\n",
    "        # If an element at i (on the left of the pivot) is larger than the\n",
    "        # element at j (on right of the pivot), then swap them\n",
    "        nums[i], nums[j] = nums[j], nums[i]\n",
    "\n",
    "\n",
    "def quick_sort(nums):\n",
    "    # Create a helper function that will be called recursively\n",
    "    def _quick_sort(items, low, high):\n",
    "        if low < high:\n",
    "            # This is the index after the pivot, where our lists are split\n",
    "            split_index = partition(items, low, high)\n",
    "            _quick_sort(items, low, split_index)\n",
    "            _quick_sort(items, split_index + 1, high)\n",
    "    _quick_sort(nums, 0, len(nums) - 1)"
   ]
  },
  {
   "cell_type": "code",
   "execution_count": 26,
   "id": "ca0633d9",
   "metadata": {},
   "outputs": [],
   "source": [
    "import random\n",
    "\n",
    "my_list = []\n",
    "for i in range(0, 5000):\n",
    "    my_list.append(random.randint(1, 1000))"
   ]
  },
  {
   "cell_type": "code",
   "execution_count": 27,
   "id": "ce6fae20",
   "metadata": {},
   "outputs": [
    {
     "name": "stdout",
     "output_type": "stream",
     "text": [
      "376 µs ± 14.6 µs per loop (mean ± std. dev. of 7 runs, 1 loop each)\n"
     ]
    }
   ],
   "source": [
    "%%timeit\n",
    "bubble_sort(my_list)"
   ]
  },
  {
   "cell_type": "code",
   "execution_count": 25,
   "id": "2e056ecf",
   "metadata": {},
   "outputs": [
    {
     "name": "stdout",
     "output_type": "stream",
     "text": [
      "6.72 ms ± 84.4 µs per loop (mean ± std. dev. of 7 runs, 100 loops each)\n"
     ]
    }
   ],
   "source": [
    "%%timeit\n",
    "quick_sort(my_list)"
   ]
  }
 ],
 "metadata": {
  "kernelspec": {
   "display_name": "Python 3 (ipykernel)",
   "language": "python",
   "name": "python3"
  },
  "language_info": {
   "codemirror_mode": {
    "name": "ipython",
    "version": 3
   },
   "file_extension": ".py",
   "mimetype": "text/x-python",
   "name": "python",
   "nbconvert_exporter": "python",
   "pygments_lexer": "ipython3",
   "version": "3.9.1"
  }
 },
 "nbformat": 4,
 "nbformat_minor": 5
}
